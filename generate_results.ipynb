{
 "cells": [
  {
   "cell_type": "code",
   "execution_count": 3,
   "id": "initial_id",
   "metadata": {
    "collapsed": true,
    "ExecuteTime": {
     "end_time": "2024-01-16T13:19:11.049106400Z",
     "start_time": "2024-01-16T13:19:10.643690500Z"
    }
   },
   "outputs": [
    {
     "name": "stdout",
     "output_type": "stream",
     "text": [
      "/bin/bash: warning: setlocale: LC_ALL: cannot change locale (en_US.UTF-8)\r\n",
      "/mnt/d/Documents/Github/CODA-Prompt\r\n",
      "continual:\n",
      "60.00%\n",
      "sys:\n",
      "52.22% +- 0.71%\n",
      "pro:\n",
      "54.80% +- 0.70%\n",
      "sub:\n",
      "63.91% +- 0.74%\n",
      "non:\n",
      "53.62% +- 0.69%\n",
      "noc:\n",
      "73.92% +- 0.71%\n"
     ]
    }
   ],
   "source": [
    "import os\n",
    "import yaml\n",
    "import numpy as np\n",
    "\n",
    "!pwd\n",
    "\n",
    "def print_result(algo, target, mode):\n",
    "    if mode == 'continual': \n",
    "        file = 'global.yaml'\n",
    "        print_ci95 = False\n",
    "    else:\n",
    "        file = f'global-{mode}.yaml'\n",
    "        print_ci95 = True\n",
    "    exp_path = f'/mnt/d/Documents/Github/CODA-Prompt-experiments/CGQA/10-task/{algo}/results-{target}/{file}'\n",
    "    with open(exp_path, 'r') as yaml_file:\n",
    "        yaml_result = yaml.safe_load(yaml_file)\n",
    "    \n",
    "    data = np.asarray(yaml_result['mean'])      # [300]\n",
    "    avg = np.mean(data)\n",
    "    std = np.std(data)\n",
    "    ci95 = 1.96 * (std/np.sqrt(len(data)))\n",
    "    if print_ci95:\n",
    "        print(f'{avg:.2f}% +- {ci95:.2f}%')\n",
    "    else:\n",
    "        print(f'{avg:.2f}%')\n",
    "    return avg, ci95\n",
    "\n",
    "algo = 'l2p++'         # coda-p dual-prompt l2p++\n",
    "target = 'acc'\n",
    "for mode in ['continual', 'sys', 'pro', 'sub', 'non', 'noc']:\n",
    "    print(f'{mode}:')\n",
    "    print_result(algo, target, mode)\n",
    "\n"
   ]
  }
 ],
 "metadata": {
  "kernelspec": {
   "display_name": "Python 3",
   "language": "python",
   "name": "python3"
  },
  "language_info": {
   "codemirror_mode": {
    "name": "ipython",
    "version": 2
   },
   "file_extension": ".py",
   "mimetype": "text/x-python",
   "name": "python",
   "nbconvert_exporter": "python",
   "pygments_lexer": "ipython2",
   "version": "2.7.6"
  }
 },
 "nbformat": 4,
 "nbformat_minor": 5
}
