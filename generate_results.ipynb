{
 "cells": [
  {
   "cell_type": "code",
   "execution_count": 9,
   "id": "initial_id",
   "metadata": {
    "collapsed": true,
    "ExecuteTime": {
     "end_time": "2024-02-06T14:30:57.471850300Z",
     "start_time": "2024-02-06T14:30:57.127990100Z"
    }
   },
   "outputs": [
    {
     "name": "stdout",
     "output_type": "stream",
     "text": [
      "/bin/bash: warning: setlocale: LC_ALL: cannot change locale (en_US.UTF-8)\r\n",
      "/mnt/d/Documents/Github/CODA-Prompt\r\n",
      "continual:\n",
      "55.36%\n",
      "sys:\n",
      "71.72% +- 0.76%\n",
      "pro:\n",
      "71.37% +- 0.69%\n",
      "sub:\n",
      "81.45% +- 0.61%\n",
      "non:\n",
      "74.55% +- 0.69%\n",
      "noc:\n",
      "84.07% +- 0.59%\n"
     ]
    }
   ],
   "source": [
    "import os\n",
    "import yaml\n",
    "import numpy as np\n",
    "\n",
    "!pwd\n",
    "\n",
    "def print_result(algo, target, mode):\n",
    "    if mode == 'continual': \n",
    "        file = 'global.yaml'\n",
    "        index=-1\n",
    "        print_ci95 = False\n",
    "    else:\n",
    "        file = f'global-{mode}.yaml'\n",
    "        index='all'\n",
    "        print_ci95 = True\n",
    "    exp_path = f'/mnt/d/Documents/Github/CODA-Prompt-experiments/CGQA/10-task/{algo}/results-{target}/{file}'\n",
    "    with open(exp_path, 'r') as yaml_file:\n",
    "        yaml_result = yaml.safe_load(yaml_file)\n",
    "    \n",
    "    if index == 'all':\n",
    "        data = np.asarray(yaml_result['mean'])      # [300]\n",
    "    else:\n",
    "        data = np.asarray(yaml_result['mean'][index])      # [-1]\n",
    "    avg = np.mean(data)\n",
    "    if print_ci95:\n",
    "        std = np.std(data)\n",
    "        ci95 = 1.96 * (std/np.sqrt(len(data)))\n",
    "        print(f'{avg:.2f}% +- {ci95:.2f}%')\n",
    "    else:\n",
    "        ci95 = 0\n",
    "        print(f'{avg:.2f}%')\n",
    "    return avg, ci95\n",
    "\n",
    "algo = 'coda-p-r-0'         # coda-p dual-prompt l2p++ coda-p-r\n",
    "target = 'acc'\n",
    "for mode in ['continual', 'sys', 'pro', 'sub', 'non', 'noc']:      # \n",
    "    print(f'{mode}:')\n",
    "    print_result(algo, target, mode)\n",
    "\n"
   ]
  },
  {
   "cell_type": "markdown",
   "source": [
    "# Visualize mo"
   ],
   "metadata": {
    "collapsed": false
   },
   "id": "164e11d050db3328"
  },
  {
   "cell_type": "code",
   "execution_count": 1,
   "outputs": [],
   "source": [
    "\n",
    "import types\n",
    "import yaml\n",
    "import copy\n",
    "\n",
    "import numpy as np\n",
    "import torch\n",
    "from torch.utils.data import DataLoader\n",
    "\n",
    "from trainer import Trainer\n",
    "from learners.pmo_utils import cal_hv_loss\n",
    "from learners.pmo_utils import draw_objs\n",
    "\n",
    "\n",
    "args = types.SimpleNamespace()\n",
    "args.config = 'configs/cgqa_prompt.yaml' \n",
    "args.gpuid = [0]\n",
    "args.repeat = 1 \n",
    "args.overwrite = 1 \n",
    "args.learner_type = 'pmo'    # prompt\n",
    "args.learner_name = 'PMOPrompt' \n",
    "args.prompt_param = [100, 8, 0.0, 4]        # [4] -> n_obj\n",
    "args.memory = 0 \n",
    "args.log_dir = '../CODA-Prompt-experiments/CGQA/10-task/pmo-10-4-0'     # pmo-10-4-0   coda-p\n",
    "args.debug_mode = 1\n",
    "args.dataroot = '../../../OneDrive - City University of Hong Kong - Student/datasets'\n",
    "args.oracle_flag = False\n",
    "args.upper_bound_flag = False\n",
    "args.temp = 2\n",
    "args.DW = False\n",
    "args.mode = 'continual'\n",
    "args.test_model = -1\n",
    "\n",
    "config = yaml.load(open(args.config, 'r'), Loader=yaml.Loader)\n",
    "config.update(vars(args))\n",
    "\n",
    "args = types.SimpleNamespace(**config)\n",
    "args.batch_size = 10\n",
    "\n",
    "metric_keys = ['acc','time',]\n",
    "save_keys = ['global', 'pt', 'pt-local']\n",
    "global_only = ['time']\n",
    "avg_metrics = {}\n",
    "for mkey in metric_keys: \n",
    "    avg_metrics[mkey] = {}\n",
    "    for skey in save_keys: avg_metrics[mkey][skey] = []\n",
    "\n",
    "def prepare(trainer=None, task_id=-1): \n",
    "    if trainer is None: \n",
    "        trainer = Trainer(args, 0, metric_keys, save_keys)      # new trainer\n",
    "    \n",
    "    if task_id > -1: \n",
    "        i = task_id\n",
    "        trainer.current_t_index = i\n",
    "        train_name = trainer.task_names[i]\n",
    "        print('======================', train_name, '=======================')\n",
    "        \n",
    "        task = trainer.tasks_logits[i]\n",
    "        trainer.train_dataset.load_dataset(i, train=True)\n",
    "        trainer.add_dim = len(task)\n",
    "        \n",
    "        if i > 0: \n",
    "            trainer.learner.model.prompt.process_task_count()\n",
    "        \n",
    "        # load model\n",
    "        model_save_dir = trainer.model_top_dir + '/models/repeat-'+str(trainer.seed+1)+'/task-'+trainer.task_names[i]+'/'\n",
    "        trainer.learner.task_count = i \n",
    "        trainer.learner.add_valid_output_dim(len(trainer.tasks_logits[i]))\n",
    "        trainer.learner.pre_steps()\n",
    "    \n",
    "        trainer.learner.load_model(model_save_dir)  # load last model\n",
    "        trainer.learner.model.task_id = i    \n",
    "        \n",
    "        trainer.learner.data_weighting(trainer.train_dataset)   \n",
    "\n",
    "    return trainer\n"
   ],
   "metadata": {
    "collapsed": false,
    "ExecuteTime": {
     "end_time": "2024-03-08T03:35:19.171217700Z",
     "start_time": "2024-03-08T03:35:15.921675400Z"
    }
   },
   "id": "1e294d83d8c2d1a2"
  },
  {
   "cell_type": "code",
   "execution_count": null,
   "outputs": [
    {
     "name": "stdout",
     "output_type": "stream",
     "text": [
      "*****************************************\n",
      "====================== 1 =======================\n",
      "Incremental class: Old valid output dimension: 0\n",
      "Incremental class: New Valid output dimension: 10\n",
      "=> Load Done\n",
      "aq_k in layer0: tensor([1., 0., 0., 0., 0., 0., 0., 0., 0., 0.], device='cuda:0')\n",
      "aq_k in layer1: tensor([0., 0., 0., 0., 0., 0., 0., 0., 0., 0.], device='cuda:0')\n",
      "aq_k in layer2: tensor([0., 0., 0., 0., 0., 0., 0., 0., 0., 0.], device='cuda:0')\n",
      "aq_k in layer3: tensor([0., 0., 0., 0., 0., 0., 0., 0., 0., 0.], device='cuda:0')\n",
      "aq_k in layer4: tensor([0., 0., 0., 0., 0., 0., 0., 0., 0., 0.], device='cuda:0')\n",
      "aq_k in layer0: tensor([0., 0., 0., 0., 1., 0., 0., 0., 0., 0.], device='cuda:0')\n",
      "aq_k in layer1: tensor([0., 0., 0., 0., 0., 0., 0., 0., 0., 0.], device='cuda:0')\n",
      "aq_k in layer2: tensor([0., 0., 0., 0., 0., 0., 0., 0., 0., 0.], device='cuda:0')\n",
      "aq_k in layer3: tensor([0., 0., 0., 0., 0., 0., 0., 0., 0., 0.], device='cuda:0')\n",
      "aq_k in layer4: tensor([0., 0., 0., 0., 0., 0., 0., 0., 0., 0.], device='cuda:0')\n",
      "aq_k in layer0: tensor([0., 0., 0., 0., 0., 1., 0., 0., 0., 0.], device='cuda:0')\n",
      "aq_k in layer1: tensor([0., 0., 0., 0., 0., 0., 0., 0., 0., 0.], device='cuda:0')\n",
      "aq_k in layer2: tensor([0., 0., 0., 0., 0., 0., 0., 0., 0., 0.], device='cuda:0')\n",
      "aq_k in layer3: tensor([0., 0., 0., 0., 0., 0., 0., 0., 0., 0.], device='cuda:0')\n",
      "aq_k in layer4: tensor([0., 0., 0., 0., 0., 0., 0., 0., 0., 0.], device='cuda:0')\n",
      "aq_k in layer0: tensor([0., 0., 0., 0., 0., 0., 0., 0., 0., 1.], device='cuda:0')\n",
      "aq_k in layer1: tensor([0., 0., 0., 0., 0., 0., 0., 0., 0., 0.], device='cuda:0')\n",
      "aq_k in layer2: tensor([0., 0., 0., 0., 0., 0., 0., 0., 0., 0.], device='cuda:0')\n",
      "aq_k in layer3: tensor([0., 0., 0., 0., 0., 0., 0., 0., 0., 0.], device='cuda:0')\n",
      "aq_k in layer4: tensor([0., 0., 0., 0., 0., 0., 0., 0., 0., 0.], device='cuda:0')\n",
      "tensor(8.0572, device='cuda:0', dtype=torch.float64, grad_fn=<SumBackward0>)\n",
      "aq_k in layer0: tensor([0., 0., 0., 0., 0., 0., 0., 0., 0., 0.], device='cuda:0')\n",
      "aq_k in layer1: tensor([1., 0., 0., 0., 0., 0., 0., 0., 0., 0.], device='cuda:0')\n",
      "aq_k in layer2: tensor([0., 0., 0., 0., 0., 0., 0., 0., 0., 0.], device='cuda:0')\n",
      "aq_k in layer3: tensor([0., 0., 0., 0., 0., 0., 0., 0., 0., 0.], device='cuda:0')\n"
     ]
    }
   ],
   "source": [
    "trainer = None\n",
    "# for i in range(10): \n",
    "i=0\n",
    "trainer = prepare(trainer, task_id=i)\n",
    "\n",
    "learner = trainer.learner\n",
    "model = learner.model\n",
    "prompt = model.prompt\n",
    "learner.aux.update_source(trainer.train_dataset)\n",
    "\n",
    "learner.epoch = 0\n",
    "\n",
    "for layer_idx in [0, 1,2,3, 4]:\n",
    "    mo_matrix = learner.obtain_mo_matrix(hard_l=layer_idx)\n",
    "    # print(f'mo_matrix: {mo_matrix}')\n",
    "    hv_loss = cal_hv_loss(mo_matrix, ref=None)\n",
    "    print(hv_loss)\n",
    "    figure = draw_objs(mo_matrix.detach().cpu().numpy()[np.newaxis, :2, :], None)   # only f1-f2\n",
    "    figure.savefig(f'{args.log_dir}/temp/mo_task{i}_l{layer_idx}_f1-f2.png', bbox_inches='tight')"
   ],
   "metadata": {
    "collapsed": false,
    "is_executing": true,
    "ExecuteTime": {
     "start_time": "2024-03-08T03:42:17.299998200Z"
    }
   },
   "id": "f0d011103b2b86a0"
  },
  {
   "cell_type": "code",
   "execution_count": null,
   "outputs": [],
   "source": [],
   "metadata": {
    "collapsed": false
   },
   "id": "83741c1831811b20"
  },
  {
   "cell_type": "code",
   "execution_count": null,
   "outputs": [],
   "source": [],
   "metadata": {
    "collapsed": false
   },
   "id": "c931ebb43a519a4c"
  }
 ],
 "metadata": {
  "kernelspec": {
   "display_name": "Python 3",
   "language": "python",
   "name": "python3"
  },
  "language_info": {
   "codemirror_mode": {
    "name": "ipython",
    "version": 2
   },
   "file_extension": ".py",
   "mimetype": "text/x-python",
   "name": "python",
   "nbconvert_exporter": "python",
   "pygments_lexer": "ipython2",
   "version": "2.7.6"
  }
 },
 "nbformat": 4,
 "nbformat_minor": 5
}
