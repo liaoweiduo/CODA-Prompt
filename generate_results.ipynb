{
 "cells": [
  {
   "cell_type": "code",
   "execution_count": 9,
   "id": "initial_id",
   "metadata": {
    "collapsed": true,
    "ExecuteTime": {
     "end_time": "2024-02-06T14:30:57.471850300Z",
     "start_time": "2024-02-06T14:30:57.127990100Z"
    }
   },
   "outputs": [
    {
     "name": "stdout",
     "output_type": "stream",
     "text": [
      "/bin/bash: warning: setlocale: LC_ALL: cannot change locale (en_US.UTF-8)\r\n",
      "/mnt/d/Documents/Github/CODA-Prompt\r\n",
      "continual:\n",
      "55.36%\n",
      "sys:\n",
      "71.72% +- 0.76%\n",
      "pro:\n",
      "71.37% +- 0.69%\n",
      "sub:\n",
      "81.45% +- 0.61%\n",
      "non:\n",
      "74.55% +- 0.69%\n",
      "noc:\n",
      "84.07% +- 0.59%\n"
     ]
    }
   ],
   "source": [
    "import os\n",
    "import yaml\n",
    "import numpy as np\n",
    "\n",
    "!pwd\n",
    "\n",
    "def print_result(algo, target, mode):\n",
    "    if mode == 'continual': \n",
    "        file = 'global.yaml'\n",
    "        index=-1\n",
    "        print_ci95 = False\n",
    "    else:\n",
    "        file = f'global-{mode}.yaml'\n",
    "        index='all'\n",
    "        print_ci95 = True\n",
    "    exp_path = f'/mnt/d/Documents/Github/CODA-Prompt-experiments/CGQA/10-task/{algo}/results-{target}/{file}'\n",
    "    with open(exp_path, 'r') as yaml_file:\n",
    "        yaml_result = yaml.safe_load(yaml_file)\n",
    "    \n",
    "    if index == 'all':\n",
    "        data = np.asarray(yaml_result['mean'])      # [300]\n",
    "    else:\n",
    "        data = np.asarray(yaml_result['mean'][index])      # [-1]\n",
    "    avg = np.mean(data)\n",
    "    if print_ci95:\n",
    "        std = np.std(data)\n",
    "        ci95 = 1.96 * (std/np.sqrt(len(data)))\n",
    "        print(f'{avg:.2f}% +- {ci95:.2f}%')\n",
    "    else:\n",
    "        ci95 = 0\n",
    "        print(f'{avg:.2f}%')\n",
    "    return avg, ci95\n",
    "\n",
    "algo = 'coda-p-r-0'         # coda-p dual-prompt l2p++ coda-p-r\n",
    "target = 'acc'\n",
    "for mode in ['continual', 'sys', 'pro', 'sub', 'non', 'noc']:      # \n",
    "    print(f'{mode}:')\n",
    "    print_result(algo, target, mode)\n",
    "\n"
   ]
  }
 ],
 "metadata": {
  "kernelspec": {
   "display_name": "Python 3",
   "language": "python",
   "name": "python3"
  },
  "language_info": {
   "codemirror_mode": {
    "name": "ipython",
    "version": 2
   },
   "file_extension": ".py",
   "mimetype": "text/x-python",
   "name": "python",
   "nbconvert_exporter": "python",
   "pygments_lexer": "ipython2",
   "version": "2.7.6"
  }
 },
 "nbformat": 4,
 "nbformat_minor": 5
}
