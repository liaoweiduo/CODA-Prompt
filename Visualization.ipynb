{
 "cells": [
  {
   "cell_type": "markdown",
   "source": [
    "docker run -it -p 8888:8888 -p 6006:6006 \\\n",
    "tensorflow/tensorflow:nightly-py3-jupyter\n",
    "\n",
    "运行后进入打开的jupyter，上传tensorboard的log文件后执行"
   ],
   "metadata": {
    "collapsed": false
   },
   "id": "2a6673f20ff042dc"
  },
  {
   "cell_type": "code",
   "execution_count": 1,
   "outputs": [],
   "source": [
    "# Load the TensorBoard notebook extension\n",
    "%load_ext tensorboard"
   ],
   "metadata": {
    "collapsed": false,
    "ExecuteTime": {
     "end_time": "2024-02-22T02:53:58.273474900Z",
     "start_time": "2024-02-22T02:53:58.262259100Z"
    }
   },
   "id": "28525c4d1a5feb7a"
  },
  {
   "cell_type": "code",
   "execution_count": 2,
   "outputs": [
    {
     "data": {
      "text/plain": "'/mnt/d/Documents/Github/CODA-Prompt'"
     },
     "execution_count": 2,
     "metadata": {},
     "output_type": "execute_result"
    }
   ],
   "source": [
    "%pwd"
   ],
   "metadata": {
    "collapsed": false,
    "ExecuteTime": {
     "end_time": "2024-02-22T02:54:00.292585300Z",
     "start_time": "2024-02-22T02:54:00.285587700Z"
    }
   },
   "id": "93674ff89bbf25f7"
  },
  {
   "cell_type": "code",
   "execution_count": 3,
   "outputs": [
    {
     "data": {
      "text/plain": "Launching TensorBoard..."
     },
     "metadata": {},
     "output_type": "display_data"
    }
   ],
   "source": [
    "%tensorboard --logdir ../CODA-Prompt-experiments/CGQA/10-task/pmo-try-2/temp"
   ],
   "metadata": {
    "collapsed": false,
    "ExecuteTime": {
     "end_time": "2024-02-22T02:54:40.398659300Z",
     "start_time": "2024-02-22T02:54:39.321137800Z"
    }
   },
   "id": "e84c2314fdd9a15f"
  }
 ],
 "metadata": {
  "kernelspec": {
   "display_name": "Python 3",
   "language": "python",
   "name": "python3"
  },
  "language_info": {
   "codemirror_mode": {
    "name": "ipython",
    "version": 2
   },
   "file_extension": ".py",
   "mimetype": "text/x-python",
   "name": "python",
   "nbconvert_exporter": "python",
   "pygments_lexer": "ipython2",
   "version": "2.7.6"
  }
 },
 "nbformat": 4,
 "nbformat_minor": 5
}
