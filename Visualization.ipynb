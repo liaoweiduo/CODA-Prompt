{
 "cells": [
  {
   "cell_type": "markdown",
   "source": [
    "docker run -it -p 8888:8888 -p 6006:6006 \\\n",
    "tensorflow/tensorflow:nightly-py3-jupyter\n",
    "\n",
    "运行后进入打开的jupyter，上传tensorboard的log文件后执行"
   ],
   "metadata": {
    "collapsed": false
   },
   "id": "2a6673f20ff042dc"
  },
  {
   "cell_type": "code",
   "execution_count": 1,
   "outputs": [],
   "source": [
    "# Load the TensorBoard notebook extension\n",
    "%load_ext tensorboard"
   ],
   "metadata": {
    "collapsed": false,
    "ExecuteTime": {
     "end_time": "2024-02-26T09:22:23.856361600Z",
     "start_time": "2024-02-26T09:22:23.849523900Z"
    }
   },
   "id": "28525c4d1a5feb7a"
  },
  {
   "cell_type": "code",
   "execution_count": 2,
   "outputs": [
    {
     "data": {
      "text/plain": "'/mnt/d/Documents/Github/CODA-Prompt'"
     },
     "execution_count": 2,
     "metadata": {},
     "output_type": "execute_result"
    }
   ],
   "source": [
    "%pwd"
   ],
   "metadata": {
    "collapsed": false,
    "ExecuteTime": {
     "end_time": "2024-02-26T09:22:23.869900900Z",
     "start_time": "2024-02-26T09:22:23.862372300Z"
    }
   },
   "id": "93674ff89bbf25f7"
  },
  {
   "cell_type": "code",
   "execution_count": 3,
   "outputs": [
    {
     "data": {
      "text/plain": "Launching TensorBoard..."
     },
     "metadata": {},
     "output_type": "display_data"
    }
   ],
   "source": [
    "%tensorboard --logdir ../CODA-Prompt-experiments/CGQA/10-task/pmo-try-3/temp"
   ],
   "metadata": {
    "collapsed": false,
    "ExecuteTime": {
     "end_time": "2024-02-26T09:23:04.242189800Z",
     "start_time": "2024-02-26T09:23:03.176174600Z"
    }
   },
   "id": "e84c2314fdd9a15f"
  }
 ],
 "metadata": {
  "kernelspec": {
   "display_name": "Python 3",
   "language": "python",
   "name": "python3"
  },
  "language_info": {
   "codemirror_mode": {
    "name": "ipython",
    "version": 2
   },
   "file_extension": ".py",
   "mimetype": "text/x-python",
   "name": "python",
   "nbconvert_exporter": "python",
   "pygments_lexer": "ipython2",
   "version": "2.7.6"
  }
 },
 "nbformat": 4,
 "nbformat_minor": 5
}
